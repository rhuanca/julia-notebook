{
 "cells": [
  {
   "cell_type": "code",
   "execution_count": 3,
   "metadata": {},
   "outputs": [],
   "source": [
    "using Distributed\n"
   ]
  },
  {
   "cell_type": "code",
   "execution_count": 4,
   "metadata": {},
   "outputs": [
    {
     "data": {
      "text/plain": [
       "1"
      ]
     },
     "execution_count": 4,
     "metadata": {},
     "output_type": "execute_result"
    }
   ],
   "source": [
    "nprocs()\n"
   ]
  },
  {
   "cell_type": "code",
   "execution_count": 5,
   "metadata": {},
   "outputs": [
    {
     "data": {
      "text/plain": [
       "1"
      ]
     },
     "execution_count": 5,
     "metadata": {},
     "output_type": "execute_result"
    }
   ],
   "source": [
    "myid()"
   ]
  },
  {
   "cell_type": "code",
   "execution_count": 10,
   "metadata": {},
   "outputs": [
    {
     "ename": "AssertionError",
     "evalue": "AssertionError: t in [:all_to_all, :master_worker, :custom]",
     "output_type": "error",
     "traceback": [
      "AssertionError: t in [:all_to_all, :master_worker, :custom]",
      "",
      "Stacktrace:",
      " [1] topology(::Symbol) at /buildworker/worker/package_linux64/build/usr/share/julia/stdlib/v1.0/Distributed/src/cluster.jl:687",
      " [2] #addprocs_locked#44(::Base.Iterators.Pairs{Symbol,Any,NTuple{4,Symbol},NamedTuple{(:tunnel, :sshflags, :max_parallel, :topology),Tuple{Bool,Cmd,Int64,Symbol}}}, ::Function, ::Distributed.SSHManager) at /buildworker/worker/package_linux64/build/usr/share/julia/stdlib/v1.0/Distributed/src/cluster.jl:377",
      " [3] #addprocs_locked at ./none:0 [inlined]",
      " [4] #addprocs#43(::Base.Iterators.Pairs{Symbol,Any,NTuple{4,Symbol},NamedTuple{(:tunnel, :sshflags, :max_parallel, :topology),Tuple{Bool,Cmd,Int64,Symbol}}}, ::Function, ::Distributed.SSHManager) at /buildworker/worker/package_linux64/build/usr/share/julia/stdlib/v1.0/Distributed/src/cluster.jl:369",
      " [5] #addprocs at ./none:0 [inlined]",
      " [6] #addprocs#251 at /buildworker/worker/package_linux64/build/usr/share/julia/stdlib/v1.0/Distributed/src/managers.jl:118 [inlined]",
      " [7] (::getfield(Distributed, Symbol(\"#kw##addprocs\")))(::NamedTuple{(:topology,),Tuple{Symbol}}, ::typeof(addprocs), ::Array{String,1}) at ./none:0",
      " [8] top-level scope at In[10]:1"
     ]
    }
   ],
   "source": [
    "addprocs([\"192.168.1.14\"]; topology=:master_slave)"
   ]
  },
  {
   "cell_type": "code",
   "execution_count": null,
   "metadata": {},
   "outputs": [],
   "source": []
  },
  {
   "cell_type": "code",
   "execution_count": null,
   "metadata": {},
   "outputs": [],
   "source": []
  },
  {
   "cell_type": "code",
   "execution_count": null,
   "metadata": {},
   "outputs": [],
   "source": []
  },
  {
   "cell_type": "code",
   "execution_count": null,
   "metadata": {},
   "outputs": [],
   "source": []
  },
  {
   "cell_type": "code",
   "execution_count": null,
   "metadata": {},
   "outputs": [],
   "source": []
  }
 ],
 "metadata": {
  "kernelspec": {
   "display_name": "Julia 1.0.0",
   "language": "julia",
   "name": "julia-1.0"
  },
  "language_info": {
   "file_extension": ".jl",
   "mimetype": "application/julia",
   "name": "julia",
   "version": "1.0.0"
  }
 },
 "nbformat": 4,
 "nbformat_minor": 2
}
