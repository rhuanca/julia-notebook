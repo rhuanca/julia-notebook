{
 "cells": [
  {
   "cell_type": "code",
   "execution_count": 689,
   "metadata": {},
   "outputs": [
    {
     "data": {
      "text/plain": [
       "Plots.GRBackend()"
      ]
     },
     "execution_count": 689,
     "metadata": {},
     "output_type": "execute_result"
    }
   ],
   "source": [
    "using Plots\n",
    "using LinearAlgebra\n",
    "gr()"
   ]
  },
  {
   "cell_type": "code",
   "execution_count": 685,
   "metadata": {},
   "outputs": [
    {
     "data": {
      "text/plain": [
       "2-element Array{Int64,1}:\n",
       " -4\n",
       "  1"
      ]
     },
     "execution_count": 685,
     "metadata": {},
     "output_type": "execute_result"
    }
   ],
   "source": [
    "A1 = [-4, 1]"
   ]
  },
  {
   "cell_type": "code",
   "execution_count": 686,
   "metadata": {
    "scrolled": true
   },
   "outputs": [
    {
     "data": {
      "text/plain": [
       "2-element Array{Int64,1}:\n",
       "  4\n",
       " -5"
      ]
     },
     "execution_count": 686,
     "metadata": {},
     "output_type": "execute_result"
    }
   ],
   "source": [
    "A2 = [4, -5]"
   ]
  },
  {
   "cell_type": "code",
   "execution_count": 687,
   "metadata": {},
   "outputs": [
    {
     "data": {
      "text/plain": [
       "2×2 Array{Int64,2}:\n",
       " -4   4\n",
       "  1  -5"
      ]
     },
     "execution_count": 687,
     "metadata": {},
     "output_type": "execute_result"
    }
   ],
   "source": [
    "A = hcat(A1, A2)"
   ]
  },
  {
   "cell_type": "code",
   "execution_count": 755,
   "metadata": {},
   "outputs": [
    {
     "data": {
      "image/svg+xml": [
       "<?xml version=\"1.0\" encoding=\"utf-8\"?>\n",
       "<svg xmlns=\"http://www.w3.org/2000/svg\" xmlns:xlink=\"http://www.w3.org/1999/xlink\" width=\"600\" height=\"400\" viewBox=\"0 0 2400 1600\">\n",
       "<defs>\n",
       "  <clipPath id=\"clip4500\">\n",
       "    <rect x=\"0\" y=\"0\" width=\"2000\" height=\"2000\"/>\n",
       "  </clipPath>\n",
       "</defs>\n",
       "<defs>\n",
       "  <clipPath id=\"clip4501\">\n",
       "    <rect x=\"0\" y=\"0\" width=\"2400\" height=\"1600\"/>\n",
       "  </clipPath>\n",
       "</defs>\n",
       "<polygon clip-path=\"url(#clip4501)\" points=\"\n",
       "0,1600 2400,1600 2400,0 0,0 \n",
       "  \" fill=\"#ffffff\" fill-opacity=\"1\"/>\n",
       "<defs>\n",
       "  <clipPath id=\"clip4502\">\n",
       "    <rect x=\"480\" y=\"0\" width=\"1681\" height=\"1600\"/>\n",
       "  </clipPath>\n",
       "</defs>\n",
       "<polygon clip-path=\"url(#clip4501)\" points=\"\n",
       "149.361,1503.47 2321.26,1503.47 2321.26,47.2441 149.361,47.2441 \n",
       "  \" fill=\"#ffffff\" fill-opacity=\"1\"/>\n",
       "<defs>\n",
       "  <clipPath id=\"clip4503\">\n",
       "    <rect x=\"149\" y=\"47\" width=\"2173\" height=\"1457\"/>\n",
       "  </clipPath>\n",
       "</defs>\n",
       "<polyline clip-path=\"url(#clip4503)\" style=\"stroke:#000000; stroke-width:2; stroke-opacity:0.1; fill:none\" points=\"\n",
       "  149.361,1503.47 149.361,47.2441 \n",
       "  \"/>\n",
       "<polyline clip-path=\"url(#clip4503)\" style=\"stroke:#000000; stroke-width:2; stroke-opacity:0.1; fill:none\" points=\"\n",
       "  873.327,1503.47 873.327,47.2441 \n",
       "  \"/>\n",
       "<polyline clip-path=\"url(#clip4503)\" style=\"stroke:#000000; stroke-width:2; stroke-opacity:0.1; fill:none\" points=\"\n",
       "  1597.29,1503.47 1597.29,47.2441 \n",
       "  \"/>\n",
       "<polyline clip-path=\"url(#clip4503)\" style=\"stroke:#000000; stroke-width:2; stroke-opacity:0.1; fill:none\" points=\"\n",
       "  2321.26,1503.47 2321.26,47.2441 \n",
       "  \"/>\n",
       "<polyline clip-path=\"url(#clip4503)\" style=\"stroke:#000000; stroke-width:2; stroke-opacity:0.1; fill:none\" points=\"\n",
       "  149.361,1412.46 2321.26,1412.46 \n",
       "  \"/>\n",
       "<polyline clip-path=\"url(#clip4503)\" style=\"stroke:#000000; stroke-width:2; stroke-opacity:0.1; fill:none\" points=\"\n",
       "  149.361,957.388 2321.26,957.388 \n",
       "  \"/>\n",
       "<polyline clip-path=\"url(#clip4503)\" style=\"stroke:#000000; stroke-width:2; stroke-opacity:0.1; fill:none\" points=\"\n",
       "  149.361,502.316 2321.26,502.316 \n",
       "  \"/>\n",
       "<polyline clip-path=\"url(#clip4503)\" style=\"stroke:#000000; stroke-width:2; stroke-opacity:0.1; fill:none\" points=\"\n",
       "  149.361,47.2441 2321.26,47.2441 \n",
       "  \"/>\n",
       "<polyline clip-path=\"url(#clip4501)\" style=\"stroke:#000000; stroke-width:4; stroke-opacity:1; fill:none\" points=\"\n",
       "  149.361,1503.47 2321.26,1503.47 \n",
       "  \"/>\n",
       "<polyline clip-path=\"url(#clip4501)\" style=\"stroke:#000000; stroke-width:4; stroke-opacity:1; fill:none\" points=\"\n",
       "  149.361,1503.47 149.361,47.2441 \n",
       "  \"/>\n",
       "<polyline clip-path=\"url(#clip4501)\" style=\"stroke:#000000; stroke-width:4; stroke-opacity:1; fill:none\" points=\"\n",
       "  149.361,1503.47 149.361,1481.63 \n",
       "  \"/>\n",
       "<polyline clip-path=\"url(#clip4501)\" style=\"stroke:#000000; stroke-width:4; stroke-opacity:1; fill:none\" points=\"\n",
       "  873.327,1503.47 873.327,1481.63 \n",
       "  \"/>\n",
       "<polyline clip-path=\"url(#clip4501)\" style=\"stroke:#000000; stroke-width:4; stroke-opacity:1; fill:none\" points=\"\n",
       "  1597.29,1503.47 1597.29,1481.63 \n",
       "  \"/>\n",
       "<polyline clip-path=\"url(#clip4501)\" style=\"stroke:#000000; stroke-width:4; stroke-opacity:1; fill:none\" points=\"\n",
       "  2321.26,1503.47 2321.26,1481.63 \n",
       "  \"/>\n",
       "<polyline clip-path=\"url(#clip4501)\" style=\"stroke:#000000; stroke-width:4; stroke-opacity:1; fill:none\" points=\"\n",
       "  149.361,1412.46 181.939,1412.46 \n",
       "  \"/>\n",
       "<polyline clip-path=\"url(#clip4501)\" style=\"stroke:#000000; stroke-width:4; stroke-opacity:1; fill:none\" points=\"\n",
       "  149.361,957.388 181.939,957.388 \n",
       "  \"/>\n",
       "<polyline clip-path=\"url(#clip4501)\" style=\"stroke:#000000; stroke-width:4; stroke-opacity:1; fill:none\" points=\"\n",
       "  149.361,502.316 181.939,502.316 \n",
       "  \"/>\n",
       "<polyline clip-path=\"url(#clip4501)\" style=\"stroke:#000000; stroke-width:4; stroke-opacity:1; fill:none\" points=\"\n",
       "  149.361,47.2441 181.939,47.2441 \n",
       "  \"/>\n",
       "<g clip-path=\"url(#clip4501)\">\n",
       "<text style=\"fill:#000000; fill-opacity:1; font-family:Arial,Helvetica Neue,Helvetica,sans-serif; font-size:48; text-anchor:middle;\" transform=\"rotate(0, 149.361, 1557.47)\" x=\"149.361\" y=\"1557.47\">-5</text>\n",
       "</g>\n",
       "<g clip-path=\"url(#clip4501)\">\n",
       "<text style=\"fill:#000000; fill-opacity:1; font-family:Arial,Helvetica Neue,Helvetica,sans-serif; font-size:48; text-anchor:middle;\" transform=\"rotate(0, 873.327, 1557.47)\" x=\"873.327\" y=\"1557.47\">0</text>\n",
       "</g>\n",
       "<g clip-path=\"url(#clip4501)\">\n",
       "<text style=\"fill:#000000; fill-opacity:1; font-family:Arial,Helvetica Neue,Helvetica,sans-serif; font-size:48; text-anchor:middle;\" transform=\"rotate(0, 1597.29, 1557.47)\" x=\"1597.29\" y=\"1557.47\">5</text>\n",
       "</g>\n",
       "<g clip-path=\"url(#clip4501)\">\n",
       "<text style=\"fill:#000000; fill-opacity:1; font-family:Arial,Helvetica Neue,Helvetica,sans-serif; font-size:48; text-anchor:middle;\" transform=\"rotate(0, 2321.26, 1557.47)\" x=\"2321.26\" y=\"1557.47\">10</text>\n",
       "</g>\n",
       "<g clip-path=\"url(#clip4501)\">\n",
       "<text style=\"fill:#000000; fill-opacity:1; font-family:Arial,Helvetica Neue,Helvetica,sans-serif; font-size:48; text-anchor:end;\" transform=\"rotate(0, 125.361, 1429.96)\" x=\"125.361\" y=\"1429.96\">-5</text>\n",
       "</g>\n",
       "<g clip-path=\"url(#clip4501)\">\n",
       "<text style=\"fill:#000000; fill-opacity:1; font-family:Arial,Helvetica Neue,Helvetica,sans-serif; font-size:48; text-anchor:end;\" transform=\"rotate(0, 125.361, 974.888)\" x=\"125.361\" y=\"974.888\">0</text>\n",
       "</g>\n",
       "<g clip-path=\"url(#clip4501)\">\n",
       "<text style=\"fill:#000000; fill-opacity:1; font-family:Arial,Helvetica Neue,Helvetica,sans-serif; font-size:48; text-anchor:end;\" transform=\"rotate(0, 125.361, 519.816)\" x=\"125.361\" y=\"519.816\">5</text>\n",
       "</g>\n",
       "<g clip-path=\"url(#clip4501)\">\n",
       "<text style=\"fill:#000000; fill-opacity:1; font-family:Arial,Helvetica Neue,Helvetica,sans-serif; font-size:48; text-anchor:end;\" transform=\"rotate(0, 125.361, 64.7441)\" x=\"125.361\" y=\"64.7441\">10</text>\n",
       "</g>\n",
       "<polyline clip-path=\"url(#clip4503)\" style=\"stroke:#009af9; stroke-width:4; stroke-opacity:1; fill:none\" points=\"\n",
       "  163.501,399.659 294.248,502.39 372.821,564.127 439.254,616.326 511.419,673.027 577.949,725.301 649.275,781.345 731.914,846.276 805.354,903.98 869.754,954.581 \n",
       "  939.967,1009.75 1010.6,1065.25 1088.69,1126.6 1162.99,1184.99 1240.25,1245.69 1305.28,1296.79 1384.68,1359.17 1459.32,1417.82 1578.89,1511.77 \n",
       "  \"/>\n",
       "<polyline clip-path=\"url(#clip4503)\" style=\"stroke:#ffa500; stroke-width:4; stroke-opacity:1; fill:none\" stroke-dasharray=\"16, 10\" points=\"\n",
       "  873.327,957.388 294.154,866.374 \n",
       "  \"/>\n",
       "<polyline clip-path=\"url(#clip4503)\" style=\"stroke:#ffa500; stroke-width:4; stroke-opacity:1; fill:none\" points=\"\n",
       "  326.923,889.744 294.154,866.374 332.512,854.181 \n",
       "  \"/>\n",
       "<polyline clip-path=\"url(#clip4503)\" style=\"stroke:#ffa500; stroke-width:4; stroke-opacity:1; fill:none\" stroke-dasharray=\"16, 10\" points=\"\n",
       "  294.154,866.374 873.327,957.388 \n",
       "  \"/>\n",
       "<polyline clip-path=\"url(#clip4503)\" style=\"stroke:#ffa500; stroke-width:4; stroke-opacity:1; fill:none\" stroke-dasharray=\"16, 10\" points=\"\n",
       "  873.327,957.388 1452.5,1412.46 \n",
       "  \"/>\n",
       "<polyline clip-path=\"url(#clip4503)\" style=\"stroke:#ffa500; stroke-width:4; stroke-opacity:1; fill:none\" points=\"\n",
       "  1435.31,1376.06 1452.5,1412.46 1413.07,1404.37 \n",
       "  \"/>\n",
       "<polyline clip-path=\"url(#clip4503)\" style=\"stroke:#ffa500; stroke-width:4; stroke-opacity:1; fill:none\" stroke-dasharray=\"16, 10\" points=\"\n",
       "  1452.5,1412.46 873.327,957.388 \n",
       "  \"/>\n",
       "<polygon clip-path=\"url(#clip4503)\" points=\"\n",
       "873.327,957.388 1452.5,1412.46 728.534,1321.45 294.154,866.374 873.327,957.388 873.327,957.388 294.154,957.388 728.534,957.388 1452.5,957.388 873.327,957.388 \n",
       "  \n",
       "  \" fill=\"#add8e6\" fill-opacity=\"1\"/>\n",
       "<polyline clip-path=\"url(#clip4503)\" style=\"stroke:#3da44d; stroke-width:0; stroke-opacity:1; fill:none\" points=\"\n",
       "  873.327,957.388 1452.5,1412.46 728.534,1321.45 294.154,866.374 873.327,957.388 \n",
       "  \"/>\n",
       "<polygon clip-path=\"url(#clip4501)\" points=\"\n",
       "1958.43,312.204 2249.26,312.204 2249.26,130.764 1958.43,130.764 \n",
       "  \" fill=\"#ffffff\" fill-opacity=\"1\"/>\n",
       "<polyline clip-path=\"url(#clip4501)\" style=\"stroke:#000000; stroke-width:4; stroke-opacity:1; fill:none\" points=\"\n",
       "  1958.43,312.204 2249.26,312.204 2249.26,130.764 1958.43,130.764 1958.43,312.204 \n",
       "  \"/>\n",
       "<polyline clip-path=\"url(#clip4501)\" style=\"stroke:#009af9; stroke-width:4; stroke-opacity:1; fill:none\" points=\"\n",
       "  1982.43,191.244 2126.43,191.244 \n",
       "  \"/>\n",
       "<g clip-path=\"url(#clip4501)\">\n",
       "<text style=\"fill:#000000; fill-opacity:1; font-family:Arial,Helvetica Neue,Helvetica,sans-serif; font-size:48; text-anchor:start;\" transform=\"rotate(0, 2150.43, 208.744)\" x=\"2150.43\" y=\"208.744\">y1</text>\n",
       "</g>\n",
       "<polygon clip-path=\"url(#clip4501)\" points=\"\n",
       "1982.43,275.916 2126.43,275.916 2126.43,227.532 1982.43,227.532 1982.43,275.916 \n",
       "  \" fill=\"#add8e6\" fill-opacity=\"1\"/>\n",
       "<polyline clip-path=\"url(#clip4501)\" style=\"stroke:#3da44d; stroke-width:0; stroke-opacity:1; fill:none\" points=\"\n",
       "  1982.43,227.532 2126.43,227.532 \n",
       "  \"/>\n",
       "<g clip-path=\"url(#clip4501)\">\n",
       "<text style=\"fill:#000000; fill-opacity:1; font-family:Arial,Helvetica Neue,Helvetica,sans-serif; font-size:48; text-anchor:start;\" transform=\"rotate(0, 2150.43, 269.224)\" x=\"2150.43\" y=\"269.224\">y3</text>\n",
       "</g>\n",
       "<g clip-path=\"url(#clip4501)\">\n",
       "<text style=\"fill:#000000; fill-opacity:1; font-family:Arial,Helvetica Neue,Helvetica,sans-serif; font-size:84; text-anchor:middle;\" transform=\"rotate(0, 873.327, 1169.92)\" x=\"873.327\" y=\"1169.92\">16</text>\n",
       "</g>\n",
       "<g clip-path=\"url(#clip4501)\">\n",
       "<text style=\"fill:#000000; fill-opacity:1; font-family:Arial,Helvetica Neue,Helvetica,sans-serif; font-size:84; text-anchor:middle;\" transform=\"rotate(0, 583.74, 896.874)\" x=\"583.74\" y=\"896.874\">A1</text>\n",
       "</g>\n",
       "<g clip-path=\"url(#clip4501)\">\n",
       "<text style=\"fill:#000000; fill-opacity:1; font-family:Arial,Helvetica Neue,Helvetica,sans-serif; font-size:84; text-anchor:middle;\" transform=\"rotate(0, 1162.91, 1124.41)\" x=\"1162.91\" y=\"1124.41\">A2</text>\n",
       "</g>\n",
       "</svg>\n"
      ]
     },
     "execution_count": 755,
     "metadata": {},
     "output_type": "execute_result"
    }
   ],
   "source": [
    "function polygon_from_vectors(a, b)\n",
    "    [\n",
    "        0         0\n",
    "        a[1]      a[2]\n",
    "        a[1]+b[1] a[2]+b[1]\n",
    "        b[1]      b[1]\n",
    "        0         0\n",
    "        NaN       NaN\n",
    "    ]\n",
    "end\n",
    "\n",
    "\n",
    "f1(x) = (-5/4)*x\n",
    "plot(f1, xlims = (-5,10), ylims = (-6,10))\n",
    "quiver!([0,0],[0,0], quiver=(A[1,:],A[2,:]), color = :orange, xlims = (-5,10), ylims = (-6,10), linestyle=:dash)\n",
    "\n",
    "poly = polygon_from_vectors(A1, A2)\n",
    "plot!(points[1,:], points[2,:],line = 0,fill=(0,:lightblue))\n",
    "\n",
    "plot!( annotation=[ (0,-2,\"16\") ])\n",
    "plot!( annotation=[ (-2,1,\"A1\") ])\n",
    "plot!( annotation=[ (2,-1.5,\"A2\") ])"
   ]
  },
  {
   "cell_type": "code",
   "execution_count": 690,
   "metadata": {},
   "outputs": [
    {
     "data": {
      "text/plain": [
       "16.0"
      ]
     },
     "execution_count": 690,
     "metadata": {},
     "output_type": "execute_result"
    }
   ],
   "source": [
    "det(A)"
   ]
  },
  {
   "cell_type": "code",
   "execution_count": 732,
   "metadata": {},
   "outputs": [
    {
     "data": {
      "text/plain": [
       "magnitude (generic function with 1 method)"
      ]
     },
     "execution_count": 732,
     "metadata": {},
     "output_type": "execute_result"
    }
   ],
   "source": [
    "function magnitude(a)\n",
    "    println(a)\n",
    "    sqrt(a[1]^2 + a[2]^2)\n",
    "end"
   ]
  },
  {
   "cell_type": "code",
   "execution_count": 733,
   "metadata": {},
   "outputs": [
    {
     "name": "stdout",
     "output_type": "stream",
     "text": [
      "[-4, 1]\n"
     ]
    },
    {
     "data": {
      "text/plain": [
       "4.123105625617661"
      ]
     },
     "execution_count": 733,
     "metadata": {},
     "output_type": "execute_result"
    }
   ],
   "source": [
    "m1 = magnitude(A1)"
   ]
  },
  {
   "cell_type": "code",
   "execution_count": 734,
   "metadata": {},
   "outputs": [
    {
     "name": "stdout",
     "output_type": "stream",
     "text": [
      "[4, -5]\n"
     ]
    },
    {
     "data": {
      "text/plain": [
       "6.4031242374328485"
      ]
     },
     "execution_count": 734,
     "metadata": {},
     "output_type": "execute_result"
    }
   ],
   "source": [
    "m2 = magnitude(A2)"
   ]
  },
  {
   "cell_type": "markdown",
   "metadata": {},
   "source": [
    "## Point to Line formula:\n",
    "![alt text](point_to_line_formula.jpg \"Point to line formula\")"
   ]
  },
  {
   "cell_type": "markdown",
   "metadata": {},
   "source": [
    "## Line ecuation for A1\n",
    "```\n",
    "5/4x + y = 0\n",
    "```\n",
    "## Values to use\n",
    "```\n",
    "a = 5/4\n",
    "b = 1\n",
    "c = 0\n",
    "x0 = -1\n",
    "y0 = 1\n",
    "```"
   ]
  },
  {
   "cell_type": "code",
   "execution_count": 726,
   "metadata": {},
   "outputs": [
    {
     "data": {
      "text/plain": [
       "point_to_line_distance (generic function with 1 method)"
      ]
     },
     "execution_count": 726,
     "metadata": {},
     "output_type": "execute_result"
    }
   ],
   "source": [
    "function point_to_line_distance(a,b,c,x0,y0)\n",
    "    abs(a*x0+b*y0+c)/sqrt(a^2+b^2)\n",
    "end"
   ]
  },
  {
   "cell_type": "code",
   "execution_count": 744,
   "metadata": {},
   "outputs": [
    {
     "data": {
      "text/plain": [
       "2.498780190217697"
      ]
     },
     "execution_count": 744,
     "metadata": {},
     "output_type": "execute_result"
    }
   ],
   "source": [
    "distance = point_to_line_distance(5/4,1,0,-4,1) "
   ]
  },
  {
   "cell_type": "markdown",
   "metadata": {},
   "source": [
    "## Area of parallelogram formula:\n",
    "![alt text](area_of_parallelogram.jpg \"Area of parallelogram formula\")"
   ]
  },
  {
   "cell_type": "code",
   "execution_count": 728,
   "metadata": {},
   "outputs": [
    {
     "data": {
      "text/plain": [
       "area_of_parallelogram (generic function with 1 method)"
      ]
     },
     "execution_count": 728,
     "metadata": {},
     "output_type": "execute_result"
    }
   ],
   "source": [
    "function area_of_parallelogram(b,h)\n",
    "    b * h\n",
    "end"
   ]
  },
  {
   "cell_type": "code",
   "execution_count": 748,
   "metadata": {},
   "outputs": [
    {
     "data": {
      "text/plain": [
       "16.0"
      ]
     },
     "execution_count": 748,
     "metadata": {},
     "output_type": "execute_result"
    }
   ],
   "source": [
    "area1 = area_of_parallelogram(m2,distance)"
   ]
  }
 ],
 "metadata": {
  "kernelspec": {
   "display_name": "Julia 1.0.0",
   "language": "julia",
   "name": "julia-1.0"
  },
  "language_info": {
   "file_extension": ".jl",
   "mimetype": "application/julia",
   "name": "julia",
   "version": "1.0.0"
  }
 },
 "nbformat": 4,
 "nbformat_minor": 2
}
