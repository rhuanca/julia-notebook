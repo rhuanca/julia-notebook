{
 "cells": [
  {
   "cell_type": "code",
   "execution_count": 1,
   "metadata": {},
   "outputs": [],
   "source": [
    "using Distributed"
   ]
  },
  {
   "cell_type": "code",
   "execution_count": 2,
   "metadata": {},
   "outputs": [
    {
     "data": {
      "text/plain": [
       "1"
      ]
     },
     "execution_count": 2,
     "metadata": {},
     "output_type": "execute_result"
    }
   ],
   "source": [
    "nprocs()\n"
   ]
  },
  {
   "cell_type": "code",
   "execution_count": 4,
   "metadata": {},
   "outputs": [
    {
     "data": {
      "text/plain": [
       "1"
      ]
     },
     "execution_count": 4,
     "metadata": {},
     "output_type": "execute_result"
    }
   ],
   "source": [
    "myid()"
   ]
  },
  {
   "cell_type": "code",
   "execution_count": 4,
   "metadata": {},
   "outputs": [
    {
     "name": "stderr",
     "output_type": "stream",
     "text": [
      "sh: 1: /etc/profile.d/10-budgie-desktop-common.sh: [[: not found\n",
      "sh: 1: cd: can't cd to /home/rhuanca/src-notebooks/julia\n"
     ]
    },
    {
     "data": {
      "text/plain": [
       "1-element Array{Int64,1}:\n",
       " 2"
      ]
     },
     "execution_count": 4,
     "metadata": {},
     "output_type": "execute_result"
    }
   ],
   "source": [
    "addprocs([\"rhuanca@192.168.1.14\"],topology=:master_worker)"
   ]
  },
  {
   "cell_type": "code",
   "execution_count": 3,
   "metadata": {},
   "outputs": [
    {
     "name": "stdout",
     "output_type": "stream",
     "text": [
      "search: \u001b[0m\u001b[1ma\u001b[22m\u001b[0m\u001b[1md\u001b[22m\u001b[0m\u001b[1md\u001b[22m\u001b[0m\u001b[1mp\u001b[22m\u001b[0m\u001b[1mr\u001b[22m\u001b[0m\u001b[1mo\u001b[22m\u001b[0m\u001b[1mc\u001b[22m\u001b[0m\u001b[1ms\u001b[22m\n",
      "\n"
     ]
    },
    {
     "data": {
      "text/markdown": [
       "```\n",
       "addprocs(manager::ClusterManager; kwargs...) -> List of process identifiers\n",
       "```\n",
       "\n",
       "Launches worker processes via the specified cluster manager.\n",
       "\n",
       "For example, Beowulf clusters are supported via a custom cluster manager implemented in the package `ClusterManagers.jl`.\n",
       "\n",
       "The number of seconds a newly launched worker waits for connection establishment from the master can be specified via variable `JULIA_WORKER_TIMEOUT` in the worker process's environment. Relevant only when using TCP/IP as transport.\n",
       "\n",
       "---\n",
       "\n",
       "```\n",
       "addprocs(machines; tunnel=false, sshflags=``, max_parallel=10, kwargs...) -> List of process identifiers\n",
       "```\n",
       "\n",
       "Add processes on remote machines via SSH. Requires `julia` to be installed in the same location on each node, or to be available via a shared file system.\n",
       "\n",
       "`machines` is a vector of machine specifications. Workers are started for each specification.\n",
       "\n",
       "A machine specification is either a string `machine_spec` or a tuple - `(machine_spec, count)`.\n",
       "\n",
       "`machine_spec` is a string of the form `[user@]host[:port] [bind_addr[:port]]`. `user` defaults to current user, `port` to the standard ssh port. If `[bind_addr[:port]]` is specified, other workers will connect to this worker at the specified `bind_addr` and `port`.\n",
       "\n",
       "`count` is the number of workers to be launched on the specified host. If specified as `:auto` it will launch as many workers as the number of CPU threads on the specific host.\n",
       "\n",
       "Keyword arguments:\n",
       "\n",
       "  * `tunnel`: if `true` then SSH tunneling will be used to connect to the worker from the master process. Default is `false`.\n",
       "  * `sshflags`: specifies additional ssh options, e.g. ```sshflags=`-i /home/foo/bar.pem````\n",
       "  * `max_parallel`: specifies the maximum number of workers connected to in parallel at a host. Defaults to 10.\n",
       "  * `dir`: specifies the working directory on the workers. Defaults to the host's current directory (as found by `pwd()`)\n",
       "  * `enable_threaded_blas`: if `true` then  BLAS will run on multiple threads in added processes. Default is `false`.\n",
       "  * `exename`: name of the `julia` executable. Defaults to `\"$(Sys.BINDIR)/julia\"` or `\"$(Sys.BINDIR)/julia-debug\"` as the case may be.\n",
       "  * `exeflags`: additional flags passed to the worker processes.\n",
       "  * `topology`: Specifies how the workers connect to each other. Sending a message between unconnected workers results in an error.\n",
       "\n",
       "      * `topology=:all_to_all`: All processes are connected to each other. The default.\n",
       "      * `topology=:master_worker`: Only the driver process, i.e. `pid` 1 connects to the workers. The workers do not connect to each other.\n",
       "      * `topology=:custom`: The `launch` method of the cluster manager specifies the connection topology via fields `ident` and `connect_idents` in `WorkerConfig`. A worker with a cluster manager identity `ident` will connect to all workers specified in `connect_idents`.\n",
       "  * `lazy`: Applicable only with `topology=:all_to_all`. If `true`, worker-worker connections are setup lazily, i.e. they are setup at the first instance of a remote call between workers. Default is true.\n",
       "\n",
       "Environment variables :\n",
       "\n",
       "If the master process fails to establish a connection with a newly launched worker within 60.0 seconds, the worker treats it as a fatal situation and terminates. This timeout can be controlled via environment variable `JULIA_WORKER_TIMEOUT`. The value of `JULIA_WORKER_TIMEOUT` on the master process specifies the number of seconds a newly launched worker waits for connection establishment.\n",
       "\n",
       "---\n",
       "\n",
       "```\n",
       "addprocs(; kwargs...) -> List of process identifiers\n",
       "```\n",
       "\n",
       "Equivalent to `addprocs(Sys.CPU_THREADS; kwargs...)`\n",
       "\n",
       "Note that workers do not run a `.julia/config/startup.jl` startup script, nor do they synchronize their global state (such as global variables, new method definitions, and loaded modules) with any of the other running processes.\n",
       "\n",
       "---\n",
       "\n",
       "```\n",
       "addprocs(np::Integer; restrict=true, kwargs...) -> List of process identifiers\n",
       "```\n",
       "\n",
       "Launches workers using the in-built `LocalManager` which only launches workers on the local host. This can be used to take advantage of multiple cores. `addprocs(4)` will add 4 processes on the local machine. If `restrict` is `true`, binding is restricted to `127.0.0.1`. Keyword args `dir`, `exename`, `exeflags`, `topology`, `lazy` and `enable_threaded_blas` have the same effect as documented for `addprocs(machines)`.\n"
      ],
      "text/plain": [
       "\u001b[36m  addprocs(manager::ClusterManager; kwargs...) -> List of process identifiers\u001b[39m\n",
       "\n",
       "  Launches worker processes via the specified cluster manager.\n",
       "\n",
       "  For example, Beowulf clusters are supported via a custom cluster manager\n",
       "  implemented in the package \u001b[36mClusterManagers.jl\u001b[39m.\n",
       "\n",
       "  The number of seconds a newly launched worker waits for connection\n",
       "  establishment from the master can be specified via variable\n",
       "  \u001b[36mJULIA_WORKER_TIMEOUT\u001b[39m in the worker process's environment. Relevant only when\n",
       "  using TCP/IP as transport.\n",
       "\n",
       "  ────────────────────────────────────────────────────────────────────────────\n",
       "\n",
       "\u001b[36m  addprocs(machines; tunnel=false, sshflags=``, max_parallel=10, kwargs...) -> List of process identifiers\u001b[39m\n",
       "\n",
       "  Add processes on remote machines via SSH. Requires \u001b[36mjulia\u001b[39m to be installed in\n",
       "  the same location on each node, or to be available via a shared file system.\n",
       "\n",
       "  \u001b[36mmachines\u001b[39m is a vector of machine specifications. Workers are started for each\n",
       "  specification.\n",
       "\n",
       "  A machine specification is either a string \u001b[36mmachine_spec\u001b[39m or a tuple -\n",
       "  \u001b[36m(machine_spec, count)\u001b[39m.\n",
       "\n",
       "  \u001b[36mmachine_spec\u001b[39m is a string of the form \u001b[36m[user@]host[:port] [bind_addr[:port]]\u001b[39m.\n",
       "  \u001b[36muser\u001b[39m defaults to current user, \u001b[36mport\u001b[39m to the standard ssh port. If\n",
       "  \u001b[36m[bind_addr[:port]]\u001b[39m is specified, other workers will connect to this worker\n",
       "  at the specified \u001b[36mbind_addr\u001b[39m and \u001b[36mport\u001b[39m.\n",
       "\n",
       "  \u001b[36mcount\u001b[39m is the number of workers to be launched on the specified host. If\n",
       "  specified as \u001b[36m:auto\u001b[39m it will launch as many workers as the number of CPU\n",
       "  threads on the specific host.\n",
       "\n",
       "  Keyword arguments:\n",
       "\n",
       "    •    \u001b[36mtunnel\u001b[39m: if \u001b[36mtrue\u001b[39m then SSH tunneling will be used to connect to the\n",
       "        worker from the master process. Default is \u001b[36mfalse\u001b[39m.\n",
       "\n",
       "    •    \u001b[36msshflags\u001b[39m: specifies additional ssh options, e.g. \u001b[36msshflags=`-i\n",
       "        /home/foo/bar.pem\u001b[39m`\n",
       "\n",
       "    •    \u001b[36mmax_parallel\u001b[39m: specifies the maximum number of workers connected to\n",
       "        in parallel at a host. Defaults to 10.\n",
       "\n",
       "    •    \u001b[36mdir\u001b[39m: specifies the working directory on the workers. Defaults to\n",
       "        the host's current directory (as found by \u001b[36mpwd()\u001b[39m)\n",
       "\n",
       "    •    \u001b[36menable_threaded_blas\u001b[39m: if \u001b[36mtrue\u001b[39m then BLAS will run on multiple\n",
       "        threads in added processes. Default is \u001b[36mfalse\u001b[39m.\n",
       "\n",
       "    •    \u001b[36mexename\u001b[39m: name of the \u001b[36mjulia\u001b[39m executable. Defaults to\n",
       "        \u001b[36m\"$(Sys.BINDIR)/julia\"\u001b[39m or \u001b[36m\"$(Sys.BINDIR)/julia-debug\"\u001b[39m as the case\n",
       "        may be.\n",
       "\n",
       "    •    \u001b[36mexeflags\u001b[39m: additional flags passed to the worker processes.\n",
       "\n",
       "    •    \u001b[36mtopology\u001b[39m: Specifies how the workers connect to each other. Sending\n",
       "        a message between unconnected workers results in an error.\n",
       "      \n",
       "          •    \u001b[36mtopology=:all_to_all\u001b[39m: All processes are connected to\n",
       "              each other. The default.\n",
       "      \n",
       "          •    \u001b[36mtopology=:master_worker\u001b[39m: Only the driver process, i.e.\n",
       "              \u001b[36mpid\u001b[39m 1 connects to the workers. The workers do not\n",
       "              connect to each other.\n",
       "      \n",
       "          •    \u001b[36mtopology=:custom\u001b[39m: The \u001b[36mlaunch\u001b[39m method of the cluster\n",
       "              manager specifies the connection topology via fields\n",
       "              \u001b[36mident\u001b[39m and \u001b[36mconnect_idents\u001b[39m in \u001b[36mWorkerConfig\u001b[39m. A worker with\n",
       "              a cluster manager identity \u001b[36mident\u001b[39m will connect to all\n",
       "              workers specified in \u001b[36mconnect_idents\u001b[39m.\n",
       "\n",
       "    •    \u001b[36mlazy\u001b[39m: Applicable only with \u001b[36mtopology=:all_to_all\u001b[39m. If \u001b[36mtrue\u001b[39m,\n",
       "        worker-worker connections are setup lazily, i.e. they are setup at\n",
       "        the first instance of a remote call between workers. Default is\n",
       "        true.\n",
       "\n",
       "  Environment variables :\n",
       "\n",
       "  If the master process fails to establish a connection with a newly launched\n",
       "  worker within 60.0 seconds, the worker treats it as a fatal situation and\n",
       "  terminates. This timeout can be controlled via environment variable\n",
       "  \u001b[36mJULIA_WORKER_TIMEOUT\u001b[39m. The value of \u001b[36mJULIA_WORKER_TIMEOUT\u001b[39m on the master\n",
       "  process specifies the number of seconds a newly launched worker waits for\n",
       "  connection establishment.\n",
       "\n",
       "  ────────────────────────────────────────────────────────────────────────────\n",
       "\n",
       "\u001b[36m  addprocs(; kwargs...) -> List of process identifiers\u001b[39m\n",
       "\n",
       "  Equivalent to \u001b[36maddprocs(Sys.CPU_THREADS; kwargs...)\u001b[39m\n",
       "\n",
       "  Note that workers do not run a \u001b[36m.julia/config/startup.jl\u001b[39m startup script, nor\n",
       "  do they synchronize their global state (such as global variables, new method\n",
       "  definitions, and loaded modules) with any of the other running processes.\n",
       "\n",
       "  ────────────────────────────────────────────────────────────────────────────\n",
       "\n",
       "\u001b[36m  addprocs(np::Integer; restrict=true, kwargs...) -> List of process identifiers\u001b[39m\n",
       "\n",
       "  Launches workers using the in-built \u001b[36mLocalManager\u001b[39m which only launches workers\n",
       "  on the local host. This can be used to take advantage of multiple cores.\n",
       "  \u001b[36maddprocs(4)\u001b[39m will add 4 processes on the local machine. If \u001b[36mrestrict\u001b[39m is \u001b[36mtrue\u001b[39m,\n",
       "  binding is restricted to \u001b[36m127.0.0.1\u001b[39m. Keyword args \u001b[36mdir\u001b[39m, \u001b[36mexename\u001b[39m, \u001b[36mexeflags\u001b[39m,\n",
       "  \u001b[36mtopology\u001b[39m, \u001b[36mlazy\u001b[39m and \u001b[36menable_threaded_blas\u001b[39m have the same effect as documented\n",
       "  for \u001b[36maddprocs(machines)\u001b[39m."
      ]
     },
     "execution_count": 3,
     "metadata": {},
     "output_type": "execute_result"
    }
   ],
   "source": [
    "?addprocs"
   ]
  },
  {
   "cell_type": "code",
   "execution_count": 5,
   "metadata": {},
   "outputs": [
    {
     "data": {
      "text/plain": [
       "2-element Array{Int64,1}:\n",
       " 1\n",
       " 2"
      ]
     },
     "execution_count": 5,
     "metadata": {},
     "output_type": "execute_result"
    }
   ],
   "source": [
    "procs()"
   ]
  },
  {
   "cell_type": "code",
   "execution_count": null,
   "metadata": {},
   "outputs": [],
   "source": []
  },
  {
   "cell_type": "code",
   "execution_count": 9,
   "metadata": {},
   "outputs": [
    {
     "data": {
      "text/plain": [
       "Future(2, 1, 5, nothing)"
      ]
     },
     "execution_count": 9,
     "metadata": {},
     "output_type": "execute_result"
    }
   ],
   "source": [
    "result = remotecall(rand, 2, 2, 2)"
   ]
  },
  {
   "cell_type": "code",
   "execution_count": 7,
   "metadata": {},
   "outputs": [
    {
     "name": "stdout",
     "output_type": "stream",
     "text": [
      "search: \u001b[0m\u001b[1mr\u001b[22m\u001b[0m\u001b[1me\u001b[22m\u001b[0m\u001b[1mm\u001b[22m\u001b[0m\u001b[1mo\u001b[22m\u001b[0m\u001b[1mt\u001b[22m\u001b[0m\u001b[1me\u001b[22m\u001b[0m\u001b[1mc\u001b[22m\u001b[0m\u001b[1ma\u001b[22m\u001b[0m\u001b[1ml\u001b[22m\u001b[0m\u001b[1ml\u001b[22m \u001b[0m\u001b[1mr\u001b[22m\u001b[0m\u001b[1me\u001b[22m\u001b[0m\u001b[1mm\u001b[22m\u001b[0m\u001b[1mo\u001b[22m\u001b[0m\u001b[1mt\u001b[22m\u001b[0m\u001b[1me\u001b[22m\u001b[0m\u001b[1mc\u001b[22m\u001b[0m\u001b[1ma\u001b[22m\u001b[0m\u001b[1ml\u001b[22m\u001b[0m\u001b[1ml\u001b[22m_wait \u001b[0m\u001b[1mr\u001b[22m\u001b[0m\u001b[1me\u001b[22m\u001b[0m\u001b[1mm\u001b[22m\u001b[0m\u001b[1mo\u001b[22m\u001b[0m\u001b[1mt\u001b[22m\u001b[0m\u001b[1me\u001b[22m\u001b[0m\u001b[1mc\u001b[22m\u001b[0m\u001b[1ma\u001b[22m\u001b[0m\u001b[1ml\u001b[22m\u001b[0m\u001b[1ml\u001b[22m_fetch \u001b[0m\u001b[1mR\u001b[22m\u001b[0m\u001b[1me\u001b[22m\u001b[0m\u001b[1mm\u001b[22m\u001b[0m\u001b[1mo\u001b[22m\u001b[0m\u001b[1mt\u001b[22m\u001b[0m\u001b[1me\u001b[22m\u001b[0m\u001b[1mC\u001b[22mh\u001b[0m\u001b[1ma\u001b[22mnne\u001b[0m\u001b[1ml\u001b[22m\n",
      "\n"
     ]
    },
    {
     "data": {
      "text/markdown": [
       "```\n",
       "remotecall(f, id::Integer, args...; kwargs...) -> Future\n",
       "```\n",
       "\n",
       "Call a function `f` asynchronously on the given arguments on the specified process. Return a [`Future`](@ref). Keyword arguments, if any, are passed through to `f`.\n",
       "\n",
       "---\n",
       "\n",
       "```\n",
       "remotecall(f, pool::AbstractWorkerPool, args...; kwargs...) -> Future\n",
       "```\n",
       "\n",
       "`WorkerPool` variant of `remotecall(f, pid, ....)`. Waits for and takes a free worker from `pool` and performs a `remotecall` on it.\n"
      ],
      "text/plain": [
       "\u001b[36m  remotecall(f, id::Integer, args...; kwargs...) -> Future\u001b[39m\n",
       "\n",
       "  Call a function \u001b[36mf\u001b[39m asynchronously on the given arguments on the specified\n",
       "  process. Return a \u001b[36mFuture\u001b[39m. Keyword arguments, if any, are passed through to\n",
       "  \u001b[36mf\u001b[39m.\n",
       "\n",
       "  ────────────────────────────────────────────────────────────────────────────\n",
       "\n",
       "\u001b[36m  remotecall(f, pool::AbstractWorkerPool, args...; kwargs...) -> Future\u001b[39m\n",
       "\n",
       "  \u001b[36mWorkerPool\u001b[39m variant of \u001b[36mremotecall(f, pid, ....)\u001b[39m. Waits for and takes a free\n",
       "  worker from \u001b[36mpool\u001b[39m and performs a \u001b[36mremotecall\u001b[39m on it."
      ]
     },
     "execution_count": 7,
     "metadata": {},
     "output_type": "execute_result"
    }
   ],
   "source": [
    "?remotecall"
   ]
  },
  {
   "cell_type": "code",
   "execution_count": null,
   "metadata": {},
   "outputs": [],
   "source": []
  },
  {
   "cell_type": "code",
   "execution_count": null,
   "metadata": {},
   "outputs": [],
   "source": []
  },
  {
   "cell_type": "code",
   "execution_count": null,
   "metadata": {},
   "outputs": [],
   "source": []
  },
  {
   "cell_type": "code",
   "execution_count": null,
   "metadata": {},
   "outputs": [],
   "source": []
  },
  {
   "cell_type": "code",
   "execution_count": null,
   "metadata": {},
   "outputs": [],
   "source": []
  }
 ],
 "metadata": {
  "kernelspec": {
   "display_name": "Julia 1.0.0",
   "language": "julia",
   "name": "julia-1.0"
  },
  "language_info": {
   "file_extension": ".jl",
   "mimetype": "application/julia",
   "name": "julia",
   "version": "1.0.0"
  }
 },
 "nbformat": 4,
 "nbformat_minor": 2
}
